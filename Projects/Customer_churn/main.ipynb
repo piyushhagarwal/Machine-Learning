{
 "cells": [
  {
   "cell_type": "markdown",
   "metadata": {},
   "source": [
    "# Step 1: Load CSV"
   ]
  },
  {
   "cell_type": "code",
   "execution_count": 46,
   "metadata": {},
   "outputs": [],
   "source": [
    "import pandas as pd\n",
    "\n",
    "df = pd.read_csv('Customer-Churn.csv')"
   ]
  },
  {
   "cell_type": "markdown",
   "metadata": {},
   "source": [
    "# Data understanding and manipulation"
   ]
  },
  {
   "cell_type": "code",
   "execution_count": 47,
   "metadata": {},
   "outputs": [
    {
     "name": "stdout",
     "output_type": "stream",
     "text": [
      "   customerID  gender  SeniorCitizen Partner Dependents  tenure PhoneService  \\\n",
      "0  7590-VHVEG  Female              0     Yes         No       1           No   \n",
      "1  5575-GNVDE    Male              0      No         No      34          Yes   \n",
      "2  3668-QPYBK    Male              0      No         No       2          Yes   \n",
      "3  7795-CFOCW    Male              0      No         No      45           No   \n",
      "4  9237-HQITU  Female              0      No         No       2          Yes   \n",
      "\n",
      "      MultipleLines InternetService OnlineSecurity  ... DeviceProtection  \\\n",
      "0  No phone service             DSL             No  ...               No   \n",
      "1                No             DSL            Yes  ...              Yes   \n",
      "2                No             DSL            Yes  ...               No   \n",
      "3  No phone service             DSL            Yes  ...              Yes   \n",
      "4                No     Fiber optic             No  ...               No   \n",
      "\n",
      "  TechSupport StreamingTV StreamingMovies        Contract PaperlessBilling  \\\n",
      "0          No          No              No  Month-to-month              Yes   \n",
      "1          No          No              No        One year               No   \n",
      "2          No          No              No  Month-to-month              Yes   \n",
      "3         Yes          No              No        One year               No   \n",
      "4          No          No              No  Month-to-month              Yes   \n",
      "\n",
      "               PaymentMethod MonthlyCharges  TotalCharges Churn  \n",
      "0           Electronic check          29.85         29.85    No  \n",
      "1               Mailed check          56.95        1889.5    No  \n",
      "2               Mailed check          53.85        108.15   Yes  \n",
      "3  Bank transfer (automatic)          42.30       1840.75    No  \n",
      "4           Electronic check          70.70        151.65   Yes  \n",
      "\n",
      "[5 rows x 21 columns]\n",
      "<class 'pandas.core.frame.DataFrame'>\n",
      "RangeIndex: 7043 entries, 0 to 7042\n",
      "Data columns (total 21 columns):\n",
      " #   Column            Non-Null Count  Dtype  \n",
      "---  ------            --------------  -----  \n",
      " 0   customerID        7043 non-null   object \n",
      " 1   gender            7043 non-null   object \n",
      " 2   SeniorCitizen     7043 non-null   int64  \n",
      " 3   Partner           7043 non-null   object \n",
      " 4   Dependents        7043 non-null   object \n",
      " 5   tenure            7043 non-null   int64  \n",
      " 6   PhoneService      7043 non-null   object \n",
      " 7   MultipleLines     7043 non-null   object \n",
      " 8   InternetService   7043 non-null   object \n",
      " 9   OnlineSecurity    7043 non-null   object \n",
      " 10  OnlineBackup      7043 non-null   object \n",
      " 11  DeviceProtection  7043 non-null   object \n",
      " 12  TechSupport       7043 non-null   object \n",
      " 13  StreamingTV       7043 non-null   object \n",
      " 14  StreamingMovies   7043 non-null   object \n",
      " 15  Contract          7043 non-null   object \n",
      " 16  PaperlessBilling  7043 non-null   object \n",
      " 17  PaymentMethod     7043 non-null   object \n",
      " 18  MonthlyCharges    7043 non-null   float64\n",
      " 19  TotalCharges      7043 non-null   object \n",
      " 20  Churn             7043 non-null   object \n",
      "dtypes: float64(1), int64(2), object(18)\n",
      "memory usage: 1.1+ MB\n",
      "None\n",
      "----------------------------------------------------------------------------------------------------\n",
      "       SeniorCitizen       tenure  MonthlyCharges\n",
      "count    7043.000000  7043.000000     7043.000000\n",
      "mean        0.162147    32.371149       64.761692\n",
      "std         0.368612    24.559481       30.090047\n",
      "min         0.000000     0.000000       18.250000\n",
      "25%         0.000000     9.000000       35.500000\n",
      "50%         0.000000    29.000000       70.350000\n",
      "75%         0.000000    55.000000       89.850000\n",
      "max         1.000000    72.000000      118.750000\n",
      "----------------------------------------------------------------------------------------------------\n",
      "customerID          0\n",
      "gender              0\n",
      "SeniorCitizen       0\n",
      "Partner             0\n",
      "Dependents          0\n",
      "tenure              0\n",
      "PhoneService        0\n",
      "MultipleLines       0\n",
      "InternetService     0\n",
      "OnlineSecurity      0\n",
      "OnlineBackup        0\n",
      "DeviceProtection    0\n",
      "TechSupport         0\n",
      "StreamingTV         0\n",
      "StreamingMovies     0\n",
      "Contract            0\n",
      "PaperlessBilling    0\n",
      "PaymentMethod       0\n",
      "MonthlyCharges      0\n",
      "TotalCharges        0\n",
      "Churn               0\n",
      "dtype: int64\n",
      "----------------------------------------------------------------------------------------------------\n",
      "customerID           object\n",
      "gender               object\n",
      "SeniorCitizen         int64\n",
      "Partner              object\n",
      "Dependents           object\n",
      "tenure                int64\n",
      "PhoneService         object\n",
      "MultipleLines        object\n",
      "InternetService      object\n",
      "OnlineSecurity       object\n",
      "OnlineBackup         object\n",
      "DeviceProtection     object\n",
      "TechSupport          object\n",
      "StreamingTV          object\n",
      "StreamingMovies      object\n",
      "Contract             object\n",
      "PaperlessBilling     object\n",
      "PaymentMethod        object\n",
      "MonthlyCharges      float64\n",
      "TotalCharges         object\n",
      "Churn                object\n",
      "dtype: object\n",
      "----------------------------------------------------------------------------------------------------\n"
     ]
    }
   ],
   "source": [
    "print(df.head())\n",
    "\n",
    "# Display the information of the df\n",
    "print(df.info())\n",
    "print(\"-\" * 100)\n",
    "\n",
    "# Display the summary statistics of the df\n",
    "print(df.describe())\n",
    "print(\"-\" * 100)\n",
    "\n",
    "# Display the number of missing values in the df\n",
    "print(df.isnull().sum())\n",
    "print(\"-\" * 100)\n",
    "\n",
    "# Display the data types of the variables in the df\n",
    "print(df.dtypes)\n",
    "print(\"-\" * 100)"
   ]
  },
  {
   "cell_type": "code",
   "execution_count": 48,
   "metadata": {},
   "outputs": [
    {
     "data": {
      "text/plain": [
       "array(['Electronic check', 'Mailed check', 'Bank transfer (automatic)',\n",
       "       'Credit card (automatic)'], dtype=object)"
      ]
     },
     "execution_count": 48,
     "metadata": {},
     "output_type": "execute_result"
    }
   ],
   "source": [
    "df[\"PaymentMethod\"].unique()"
   ]
  },
  {
   "cell_type": "markdown",
   "metadata": {},
   "source": [
    "# Data preprocessing"
   ]
  },
  {
   "cell_type": "code",
   "execution_count": 49,
   "metadata": {},
   "outputs": [],
   "source": [
    "# Drop the customerID column\n",
    "df = df.drop(\"customerID\", axis = 1)\n",
    "\n",
    "# Drop the PaperlessBilling column and PaymentMethod column\n",
    "df = df.drop([\"PaperlessBilling\", \"PaymentMethod\"], axis = 1)\n",
    "\n",
    "# Convert the gender column to numeric\n",
    "df[\"gender\"] = df[\"gender\"].map({\"Male\" : 1, \"Female\" : 0})\n",
    "\n",
    "# Convert the Partner column to numeric\n",
    "df[\"Partner\"] = df[\"Partner\"].map({\"Yes\" : 1, \"No\" : 0})\n",
    "\n",
    "# Convert the Dependents column to numeric\n",
    "df[\"Dependents\"] = df[\"Dependents\"].map({\"Yes\" : 1, \"No\" : 0})\n",
    "\n",
    "# Convert the PhoneService column to numeric\n",
    "df[\"PhoneService\"] = df[\"PhoneService\"].map({\"Yes\" : 1, \"No\" : 0})\n",
    "\n",
    "# Use the get_dummies method to convert the MultipleLines column to numeric\n",
    "df = pd.get_dummies(df, columns = [\"MultipleLines\"], drop_first = True)\n",
    "\n",
    "# Use the get_dummies method to convert the InternetService column to numeric\n",
    "df = pd.get_dummies(df, columns = [\"InternetService\"], drop_first = True)\n",
    "\n",
    "# Use the get_dummies method to convert the OnlineSecurity column to numeric\n",
    "df = pd.get_dummies(df, columns = [\"OnlineSecurity\"], drop_first = True)\n",
    "\n",
    "# Use the get_dummies method to convert the OnlineBackup column to numeric\n",
    "df = pd.get_dummies(df, columns = [\"OnlineBackup\"], drop_first = True)\n",
    "\n",
    "# Use the get_dummies method to convert the DeviceProtection column to numeric\n",
    "df = pd.get_dummies(df, columns = [\"DeviceProtection\"], drop_first = True)\n",
    "\n",
    "# Use the get_dummies method to convert the TechSupport column to numeric\n",
    "df = pd.get_dummies(df, columns = [\"TechSupport\"], drop_first = True)\n",
    "\n",
    "# Use the get_dummies method to convert the StreamingTV column to numeric\n",
    "df = pd.get_dummies(df, columns = [\"StreamingTV\"], drop_first = True)\n",
    "\n",
    "# Use the get_dummies method to convert the StreamingMovies column to numeric\n",
    "df = pd.get_dummies(df, columns = [\"StreamingMovies\"], drop_first = True)\n",
    "\n",
    "# Use the get_dummies method to convert the Contract column to numeric\n",
    "df = pd.get_dummies(df, columns = [\"Contract\"], drop_first = True)\n",
    "\n",
    "# # Convert the PaperlessBilling column to numeric\n",
    "# df[\"PaperlessBilling\"] = df[\"PaperlessBilling\"].map({\"Yes\" : 1, \"No\" : 0})\n",
    "\n",
    "# # Use the get_dummies method to convert the PaymentMethod column to numeric\n",
    "# df = pd.get_dummies(df, columns = [\"PaymentMethod\"], drop_first = True)\n",
    "\n",
    "# Convert the total charges column to numeric\n",
    "df[\"TotalCharges\"] = pd.to_numeric(df[\"TotalCharges\"], errors = \"coerce\")\n",
    "\n",
    "# Convert the Churn column to numeric\n",
    "df[\"Churn\"] = df[\"Churn\"].map({\"Yes\" : 1, \"No\" : 0})\n"
   ]
  },
  {
   "cell_type": "code",
   "execution_count": 50,
   "metadata": {},
   "outputs": [
    {
     "name": "stdout",
     "output_type": "stream",
     "text": [
      "gender                                   0\n",
      "SeniorCitizen                            0\n",
      "Partner                                  0\n",
      "Dependents                               0\n",
      "tenure                                   0\n",
      "PhoneService                             0\n",
      "MonthlyCharges                           0\n",
      "TotalCharges                            11\n",
      "Churn                                    0\n",
      "MultipleLines_No phone service           0\n",
      "MultipleLines_Yes                        0\n",
      "InternetService_Fiber optic              0\n",
      "InternetService_No                       0\n",
      "OnlineSecurity_No internet service       0\n",
      "OnlineSecurity_Yes                       0\n",
      "OnlineBackup_No internet service         0\n",
      "OnlineBackup_Yes                         0\n",
      "DeviceProtection_No internet service     0\n",
      "DeviceProtection_Yes                     0\n",
      "TechSupport_No internet service          0\n",
      "TechSupport_Yes                          0\n",
      "StreamingTV_No internet service          0\n",
      "StreamingTV_Yes                          0\n",
      "StreamingMovies_No internet service      0\n",
      "StreamingMovies_Yes                      0\n",
      "Contract_One year                        0\n",
      "Contract_Two year                        0\n",
      "dtype: int64\n",
      "----------------------------------------------------------------------------------------------------\n",
      "gender                                  0\n",
      "SeniorCitizen                           0\n",
      "Partner                                 0\n",
      "Dependents                              0\n",
      "tenure                                  0\n",
      "PhoneService                            0\n",
      "MonthlyCharges                          0\n",
      "TotalCharges                            0\n",
      "Churn                                   0\n",
      "MultipleLines_No phone service          0\n",
      "MultipleLines_Yes                       0\n",
      "InternetService_Fiber optic             0\n",
      "InternetService_No                      0\n",
      "OnlineSecurity_No internet service      0\n",
      "OnlineSecurity_Yes                      0\n",
      "OnlineBackup_No internet service        0\n",
      "OnlineBackup_Yes                        0\n",
      "DeviceProtection_No internet service    0\n",
      "DeviceProtection_Yes                    0\n",
      "TechSupport_No internet service         0\n",
      "TechSupport_Yes                         0\n",
      "StreamingTV_No internet service         0\n",
      "StreamingTV_Yes                         0\n",
      "StreamingMovies_No internet service     0\n",
      "StreamingMovies_Yes                     0\n",
      "Contract_One year                       0\n",
      "Contract_Two year                       0\n",
      "dtype: int64\n",
      "----------------------------------------------------------------------------------------------------\n"
     ]
    }
   ],
   "source": [
    "# Display the number of missing values in the df\n",
    "print(df.isnull().sum())\n",
    "print(\"-\" * 100)\n",
    "\n",
    "# TotalCharges contains missing values\n",
    "\n",
    "# Remove the missing values from the df\n",
    "df = df.dropna(subset=[\"TotalCharges\"])\n",
    "\n",
    "# Display the number of missing values in the df\n",
    "print(df.isnull().sum())\n",
    "print(\"-\" * 100)"
   ]
  },
  {
   "cell_type": "code",
   "execution_count": 51,
   "metadata": {},
   "outputs": [
    {
     "name": "stdout",
     "output_type": "stream",
     "text": [
      "   gender  SeniorCitizen  Partner  Dependents    tenure  PhoneService  \\\n",
      "0       0              0        1           0 -1.280248             0   \n",
      "1       1              0        0           0  0.064303             1   \n",
      "2       1              0        0           0 -1.239504             1   \n",
      "3       1              0        0           0  0.512486             0   \n",
      "4       0              0        0           0 -1.239504             1   \n",
      "\n",
      "   MonthlyCharges  TotalCharges  Churn  MultipleLines_No phone service  ...  \\\n",
      "0       -1.161694     -0.994194      0                            True  ...   \n",
      "1       -0.260878     -0.173740      0                           False  ...   \n",
      "2       -0.363923     -0.959649      1                           False  ...   \n",
      "3       -0.747850     -0.195248      0                            True  ...   \n",
      "4        0.196178     -0.940457      1                           False  ...   \n",
      "\n",
      "   DeviceProtection_No internet service  DeviceProtection_Yes  \\\n",
      "0                                 False                 False   \n",
      "1                                 False                  True   \n",
      "2                                 False                 False   \n",
      "3                                 False                  True   \n",
      "4                                 False                 False   \n",
      "\n",
      "   TechSupport_No internet service  TechSupport_Yes  \\\n",
      "0                            False            False   \n",
      "1                            False            False   \n",
      "2                            False            False   \n",
      "3                            False             True   \n",
      "4                            False            False   \n",
      "\n",
      "   StreamingTV_No internet service  StreamingTV_Yes  \\\n",
      "0                            False            False   \n",
      "1                            False            False   \n",
      "2                            False            False   \n",
      "3                            False            False   \n",
      "4                            False            False   \n",
      "\n",
      "   StreamingMovies_No internet service  StreamingMovies_Yes  \\\n",
      "0                                False                False   \n",
      "1                                False                False   \n",
      "2                                False                False   \n",
      "3                                False                False   \n",
      "4                                False                False   \n",
      "\n",
      "   Contract_One year  Contract_Two year  \n",
      "0              False              False  \n",
      "1               True              False  \n",
      "2              False              False  \n",
      "3               True              False  \n",
      "4              False              False  \n",
      "\n",
      "[5 rows x 27 columns]\n"
     ]
    }
   ],
   "source": [
    "# Scale the df features like tenure, MonthlyCharges, and TotalCharges\n",
    "\n",
    "from sklearn.preprocessing import StandardScaler\n",
    "\n",
    "scaler = StandardScaler()\n",
    "\n",
    "df[[\"tenure\", \"MonthlyCharges\", \"TotalCharges\"]] = scaler.fit_transform(df[[\"tenure\", \"MonthlyCharges\", \"TotalCharges\"]])\n",
    "\n",
    "print(df.head())"
   ]
  },
  {
   "cell_type": "markdown",
   "metadata": {},
   "source": [
    "## Check for outliers"
   ]
  },
  {
   "cell_type": "code",
   "execution_count": 52,
   "metadata": {},
   "outputs": [
    {
     "data": {
      "image/png": "[encoded data removed]",
      "text/plain": [
       "<Figure size 640x480 with 1 Axes>"
      ]
     },
     "metadata": {},
     "output_type": "display_data"
    },
    {
     "data": {
      "image/png": "[encoded data removed]",
      "text/plain": [
       "<Figure size 640x480 with 1 Axes>"
      ]
     },
     "metadata": {},
     "output_type": "display_data"
    },
    {
     "data": {
      "image/png": "[encoded data removed]",
      "text/plain": [
       "<Figure size 640x480 with 1 Axes>"
      ]
     },
     "metadata": {},
     "output_type": "display_data"
    },
    {
     "data": {
      "image/png": "[encoded data removed]",
      "text/plain": [
       "<Figure size 640x480 with 1 Axes>"
      ]
     },
     "metadata": {},
     "output_type": "display_data"
    }
   ],
   "source": [
    "import matplotlib.pyplot as plt\n",
    "\n",
    "# Create box plots for the numeric columns\n",
    "plt.boxplot(df[\"tenure\"])\n",
    "plt.show()\n",
    "\n",
    "plt.boxplot(df[\"MonthlyCharges\"])\n",
    "plt.show()\n",
    "\n",
    "plt.boxplot(df[\"TotalCharges\"])\n",
    "plt.show()\n",
    "\n",
    "plt.hist(df[\"TotalCharges\"], bins = 5)\n",
    "plt.show()"
   ]
  },
  {
   "cell_type": "markdown",
   "metadata": {},
   "source": [
    "# Divide data into training and testing set"
   ]
  },
  {
   "cell_type": "code",
   "execution_count": 53,
   "metadata": {},
   "outputs": [
    {
     "name": "stdout",
     "output_type": "stream",
     "text": [
      "Training data shape: (5625, 26), Testing data shape: (1407, 26)\n"
     ]
    }
   ],
   "source": [
    "# Divide the data into training and test sets\n",
    "from sklearn.model_selection import train_test_split\n",
    "\n",
    "# Split into features(X) and target(y)\n",
    "X = df.drop(\"Churn\", axis = 1)\n",
    "y = df[\"Churn\"]\n",
    "\n",
    "# Split the data into training and test sets\n",
    "X_train, X_test, y_train, y_test = train_test_split(X, y, test_size = 0.2, random_state = 0)\n",
    "\n",
    "# Check the shape of the splits\n",
    "print(f'Training data shape: {X_train.shape}, Testing data shape: {X_test.shape}')"
   ]
  },
  {
   "cell_type": "markdown",
   "metadata": {},
   "source": [
    "# Model building"
   ]
  },
  {
   "cell_type": "code",
   "execution_count": 56,
   "metadata": {},
   "outputs": [
    {
     "name": "stdout",
     "output_type": "stream",
     "text": [
      "Accuracy: 0.806680881307747\n",
      "Confusion matrix: [[934 104]\n",
      " [168 201]]\n",
      "Precision: 0.659016393442623, Recall: 0.5447154471544715, F1 Score: 0.5964391691394659\n"
     ]
    }
   ],
   "source": [
    "# Train a logistic regression model\n",
    "from sklearn.linear_model import LogisticRegression\n",
    "\n",
    "# Create an instance of the model\n",
    "log_reg = LogisticRegression()\n",
    "\n",
    "# Fit the model\n",
    "log_reg.fit(X_train, y_train)\n",
    "\n",
    "# Make predictions\n",
    "y_pred = log_reg.predict(X_test)\n",
    "\n",
    "# Evaluate the model\n",
    "from sklearn.metrics import accuracy_score, confusion_matrix\n",
    "\n",
    "# Calculate the accuracy\n",
    "accuracy = accuracy_score(y_test, y_pred)\n",
    "print(f'Accuracy: {accuracy}')\n",
    "\n",
    "# Calculate the confusion matrix\n",
    "conf_matrix = confusion_matrix(y_test, y_pred)          \n",
    "print(f'Confusion matrix: {conf_matrix}')\n",
    "\n",
    "# Calculate the precision, recall and f1 score\n",
    "from sklearn.metrics import precision_score, recall_score, f1_score\n",
    "\n",
    "precision = precision_score(y_test, y_pred)\n",
    "recall = recall_score(y_test, y_pred)\n",
    "f1 = f1_score(y_test, y_pred)\n",
    "\n",
    "print(f'Precision: {precision}, Recall: {recall}, F1 Score: {f1}')"
   ]
  },
  {
   "cell_type": "code",
   "execution_count": 57,
   "metadata": {},
   "outputs": [
    {
     "name": "stdout",
     "output_type": "stream",
     "text": [
      "Accuracy: 0.7931769722814499\n",
      "Confusion matrix: [[926 112]\n",
      " [179 190]]\n",
      "Precision: 0.6291390728476821, Recall: 0.5149051490514905, F1 Score: 0.5663189269746647\n"
     ]
    }
   ],
   "source": [
    "# Train a random forest model\n",
    "from sklearn.ensemble import RandomForestClassifier\n",
    "\n",
    "# Create an instance of the model\n",
    "rf = RandomForestClassifier()\n",
    "\n",
    "# Fit the model\n",
    "rf.fit(X_train, y_train)\n",
    "\n",
    "# Make predictions\n",
    "y_pred = rf.predict(X_test)\n",
    "\n",
    "# Evaluate the model\n",
    "accuracy = accuracy_score(y_test, y_pred)\n",
    "print(f'Accuracy: {accuracy}')\n",
    "\n",
    "conf_matrix = confusion_matrix(y_test, y_pred)\n",
    "print(f'Confusion matrix: {conf_matrix}')\n",
    "\n",
    "precision = precision_score(y_test, y_pred)\n",
    "recall = recall_score(y_test, y_pred)\n",
    "f1 = f1_score(y_test, y_pred)\n",
    "\n",
    "print(f'Precision: {precision}, Recall: {recall}, F1 Score: {f1}')"
   ]
  },
  {
   "cell_type": "code",
   "execution_count": 58,
   "metadata": {},
   "outputs": [
    {
     "name": "stdout",
     "output_type": "stream",
     "text": [
      "Accuracy: 0.8038379530916845\n",
      "Confusion matrix: [[957  81]\n",
      " [195 174]]\n",
      "Precision: 0.6823529411764706, Recall: 0.4715447154471545, F1 Score: 0.5576923076923077\n"
     ]
    }
   ],
   "source": [
    "# Train a support vector machine model\n",
    "from sklearn.svm import SVC\n",
    "\n",
    "# Create an instance of the model\n",
    "svc = SVC()\n",
    "\n",
    "# Fit the model\n",
    "svc.fit(X_train, y_train)\n",
    "\n",
    "# Make predictions\n",
    "y_pred = svc.predict(X_test)\n",
    "\n",
    "# Evaluate the model\n",
    "accuracy = accuracy_score(y_test, y_pred)\n",
    "\n",
    "print(f'Accuracy: {accuracy}')\n",
    "\n",
    "conf_matrix = confusion_matrix(y_test, y_pred)\n",
    "print(f'Confusion matrix: {conf_matrix}')\n",
    "\n",
    "precision = precision_score(y_test, y_pred)\n",
    "recall = recall_score(y_test, y_pred)\n",
    "f1 = f1_score(y_test, y_pred)\n",
    "\n",
    "print(f'Precision: {precision}, Recall: {recall}, F1 Score: {f1}')\n"
   ]
  },
  {
   "cell_type": "code",
   "execution_count": 59,
   "metadata": {},
   "outputs": [
    {
     "name": "stdout",
     "output_type": "stream",
     "text": [
      "Accuracy: 0.7683013503909026\n"
     ]
    }
   ],
   "source": [
    "# Train a K-Nearest Neighbors model\n",
    "from sklearn.neighbors import KNeighborsClassifier\n",
    "\n",
    "# Create an instance of the model\n",
    "knn = KNeighborsClassifier()\n",
    "\n",
    "# Fit the model\n",
    "knn.fit(X_train, y_train)\n",
    "\n",
    "# Make predictions\n",
    "y_pred = knn.predict(X_test)\n",
    "\n",
    "# Evaluate the model\n",
    "accuracy = accuracy_score(y_test, y_pred)\n",
    "\n",
    "print(f'Accuracy: {accuracy}')"
   ]
  },
  {
   "cell_type": "markdown",
   "metadata": {},
   "source": [
    "### By analyzing all the results we can use Logistic Regression for this problem and convert it into a pickle file"
   ]
  },
  {
   "cell_type": "code",
   "execution_count": 60,
   "metadata": {},
   "outputs": [],
   "source": [
    "# Convert the logistic regression model to a pickle file\n",
    "import pickle\n",
    "\n",
    "# Save the model using pickle\n",
    "with open('trained_model.pkl', 'wb') as file:\n",
    "    pickle.dump(log_reg, file)\n",
    "\n"
   ]
  }
 ],
 "metadata": {
  "kernelspec": {
   "display_name": "Python 3",
   "language": "python",
   "name": "python3"
  },
  "language_info": {
   "codemirror_mode": {
    "name": "ipython",
    "version": 3
   },
   "file_extension": ".py",
   "mimetype": "text/x-python",
   "name": "python",
   "nbconvert_exporter": "python",
   "pygments_lexer": "ipython3",
   "version": "3.12.2"
  }
 },
 "nbformat": 4,
 "nbformat_minor": 2
}
