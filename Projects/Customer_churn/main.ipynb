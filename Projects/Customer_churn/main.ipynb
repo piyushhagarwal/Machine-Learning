{
 "cells": [
  {
   "cell_type": "markdown",
   "metadata": {},
   "source": [
    "# Step 1: Load CSV"
   ]
  },
  {
   "cell_type": "code",
   "execution_count": 41,
   "metadata": {},
   "outputs": [
    {
     "data": {
      "text/html": [
       "<div>\n",
       "<style scoped>\n",
       "    .dataframe tbody tr th:only-of-type {\n",
       "        vertical-align: middle;\n",
       "    }\n",
       "\n",
       "    .dataframe tbody tr th {\n",
       "        vertical-align: top;\n",
       "    }\n",
       "\n",
       "    .dataframe thead th {\n",
       "        text-align: right;\n",
       "    }\n",
       "</style>\n",
       "<table border=\"1\" class=\"dataframe\">\n",
       "  <thead>\n",
       "    <tr style=\"text-align: right;\">\n",
       "      <th></th>\n",
       "      <th>customerID</th>\n",
       "      <th>gender</th>\n",
       "      <th>SeniorCitizen</th>\n",
       "      <th>Partner</th>\n",
       "      <th>Dependents</th>\n",
       "      <th>tenure</th>\n",
       "      <th>PhoneService</th>\n",
       "      <th>MultipleLines</th>\n",
       "      <th>InternetService</th>\n",
       "      <th>OnlineSecurity</th>\n",
       "      <th>...</th>\n",
       "      <th>DeviceProtection</th>\n",
       "      <th>TechSupport</th>\n",
       "      <th>StreamingTV</th>\n",
       "      <th>StreamingMovies</th>\n",
       "      <th>Contract</th>\n",
       "      <th>PaperlessBilling</th>\n",
       "      <th>PaymentMethod</th>\n",
       "      <th>MonthlyCharges</th>\n",
       "      <th>TotalCharges</th>\n",
       "      <th>Churn</th>\n",
       "    </tr>\n",
       "  </thead>\n",
       "  <tbody>\n",
       "    <tr>\n",
       "      <th>0</th>\n",
       "      <td>7590-VHVEG</td>\n",
       "      <td>Female</td>\n",
       "      <td>0</td>\n",
       "      <td>Yes</td>\n",
       "      <td>No</td>\n",
       "      <td>1</td>\n",
       "      <td>No</td>\n",
       "      <td>No phone service</td>\n",
       "      <td>DSL</td>\n",
       "      <td>No</td>\n",
       "      <td>...</td>\n",
       "      <td>No</td>\n",
       "      <td>No</td>\n",
       "      <td>No</td>\n",
       "      <td>No</td>\n",
       "      <td>Month-to-month</td>\n",
       "      <td>Yes</td>\n",
       "      <td>Electronic check</td>\n",
       "      <td>29.85</td>\n",
       "      <td>29.85</td>\n",
       "      <td>No</td>\n",
       "    </tr>\n",
       "    <tr>\n",
       "      <th>1</th>\n",
       "      <td>5575-GNVDE</td>\n",
       "      <td>Male</td>\n",
       "      <td>0</td>\n",
       "      <td>No</td>\n",
       "      <td>No</td>\n",
       "      <td>34</td>\n",
       "      <td>Yes</td>\n",
       "      <td>No</td>\n",
       "      <td>DSL</td>\n",
       "      <td>Yes</td>\n",
       "      <td>...</td>\n",
       "      <td>Yes</td>\n",
       "      <td>No</td>\n",
       "      <td>No</td>\n",
       "      <td>No</td>\n",
       "      <td>One year</td>\n",
       "      <td>No</td>\n",
       "      <td>Mailed check</td>\n",
       "      <td>56.95</td>\n",
       "      <td>1889.5</td>\n",
       "      <td>No</td>\n",
       "    </tr>\n",
       "    <tr>\n",
       "      <th>2</th>\n",
       "      <td>3668-QPYBK</td>\n",
       "      <td>Male</td>\n",
       "      <td>0</td>\n",
       "      <td>No</td>\n",
       "      <td>No</td>\n",
       "      <td>2</td>\n",
       "      <td>Yes</td>\n",
       "      <td>No</td>\n",
       "      <td>DSL</td>\n",
       "      <td>Yes</td>\n",
       "      <td>...</td>\n",
       "      <td>No</td>\n",
       "      <td>No</td>\n",
       "      <td>No</td>\n",
       "      <td>No</td>\n",
       "      <td>Month-to-month</td>\n",
       "      <td>Yes</td>\n",
       "      <td>Mailed check</td>\n",
       "      <td>53.85</td>\n",
       "      <td>108.15</td>\n",
       "      <td>Yes</td>\n",
       "    </tr>\n",
       "    <tr>\n",
       "      <th>3</th>\n",
       "      <td>7795-CFOCW</td>\n",
       "      <td>Male</td>\n",
       "      <td>0</td>\n",
       "      <td>No</td>\n",
       "      <td>No</td>\n",
       "      <td>45</td>\n",
       "      <td>No</td>\n",
       "      <td>No phone service</td>\n",
       "      <td>DSL</td>\n",
       "      <td>Yes</td>\n",
       "      <td>...</td>\n",
       "      <td>Yes</td>\n",
       "      <td>Yes</td>\n",
       "      <td>No</td>\n",
       "      <td>No</td>\n",
       "      <td>One year</td>\n",
       "      <td>No</td>\n",
       "      <td>Bank transfer (automatic)</td>\n",
       "      <td>42.30</td>\n",
       "      <td>1840.75</td>\n",
       "      <td>No</td>\n",
       "    </tr>\n",
       "    <tr>\n",
       "      <th>4</th>\n",
       "      <td>9237-HQITU</td>\n",
       "      <td>Female</td>\n",
       "      <td>0</td>\n",
       "      <td>No</td>\n",
       "      <td>No</td>\n",
       "      <td>2</td>\n",
       "      <td>Yes</td>\n",
       "      <td>No</td>\n",
       "      <td>Fiber optic</td>\n",
       "      <td>No</td>\n",
       "      <td>...</td>\n",
       "      <td>No</td>\n",
       "      <td>No</td>\n",
       "      <td>No</td>\n",
       "      <td>No</td>\n",
       "      <td>Month-to-month</td>\n",
       "      <td>Yes</td>\n",
       "      <td>Electronic check</td>\n",
       "      <td>70.70</td>\n",
       "      <td>151.65</td>\n",
       "      <td>Yes</td>\n",
       "    </tr>\n",
       "  </tbody>\n",
       "</table>\n",
       "<p>5 rows × 21 columns</p>\n",
       "</div>"
      ],
      "text/plain": [
       "   customerID  gender  SeniorCitizen Partner Dependents  tenure PhoneService  \\\n",
       "0  7590-VHVEG  Female              0     Yes         No       1           No   \n",
       "1  5575-GNVDE    Male              0      No         No      34          Yes   \n",
       "2  3668-QPYBK    Male              0      No         No       2          Yes   \n",
       "3  7795-CFOCW    Male              0      No         No      45           No   \n",
       "4  9237-HQITU  Female              0      No         No       2          Yes   \n",
       "\n",
       "      MultipleLines InternetService OnlineSecurity  ... DeviceProtection  \\\n",
       "0  No phone service             DSL             No  ...               No   \n",
       "1                No             DSL            Yes  ...              Yes   \n",
       "2                No             DSL            Yes  ...               No   \n",
       "3  No phone service             DSL            Yes  ...              Yes   \n",
       "4                No     Fiber optic             No  ...               No   \n",
       "\n",
       "  TechSupport StreamingTV StreamingMovies        Contract PaperlessBilling  \\\n",
       "0          No          No              No  Month-to-month              Yes   \n",
       "1          No          No              No        One year               No   \n",
       "2          No          No              No  Month-to-month              Yes   \n",
       "3         Yes          No              No        One year               No   \n",
       "4          No          No              No  Month-to-month              Yes   \n",
       "\n",
       "               PaymentMethod MonthlyCharges  TotalCharges Churn  \n",
       "0           Electronic check          29.85         29.85    No  \n",
       "1               Mailed check          56.95        1889.5    No  \n",
       "2               Mailed check          53.85        108.15   Yes  \n",
       "3  Bank transfer (automatic)          42.30       1840.75    No  \n",
       "4           Electronic check          70.70        151.65   Yes  \n",
       "\n",
       "[5 rows x 21 columns]"
      ]
     },
     "execution_count": 41,
     "metadata": {},
     "output_type": "execute_result"
    }
   ],
   "source": [
    "import pandas as pd\n",
    "\n",
    "df = pd.read_csv('Customer-Churn.csv')\n",
    "df.head()"
   ]
  },
  {
   "cell_type": "markdown",
   "metadata": {},
   "source": [
    "# Data understanding and manipulation"
   ]
  },
  {
   "cell_type": "code",
   "execution_count": 39,
   "metadata": {},
   "outputs": [
    {
     "name": "stdout",
     "output_type": "stream",
     "text": [
      "<class 'pandas.core.frame.DataFrame'>\n",
      "RangeIndex: 7043 entries, 0 to 7042\n",
      "Data columns (total 23 columns):\n",
      " #   Column                                 Non-Null Count  Dtype  \n",
      "---  ------                                 --------------  -----  \n",
      " 0   gender                                 7043 non-null   int64  \n",
      " 1   SeniorCitizen                          7043 non-null   int64  \n",
      " 2   Partner                                7043 non-null   int64  \n",
      " 3   Dependents                             7043 non-null   int64  \n",
      " 4   tenure                                 7043 non-null   int64  \n",
      " 5   PhoneService                           7043 non-null   int64  \n",
      " 6   MultipleLines                          7043 non-null   int64  \n",
      " 7   OnlineSecurity                         7043 non-null   int64  \n",
      " 8   OnlineBackup                           7043 non-null   int64  \n",
      " 9   DeviceProtection                       7043 non-null   int64  \n",
      " 10  TechSupport                            7043 non-null   int64  \n",
      " 11  StreamingTV                            7043 non-null   int64  \n",
      " 12  StreamingMovies                        7043 non-null   int64  \n",
      " 13  Contract                               7043 non-null   int64  \n",
      " 14  PaperlessBilling                       7043 non-null   int64  \n",
      " 15  MonthlyCharges                         7043 non-null   float64\n",
      " 16  TotalCharges                           7032 non-null   float64\n",
      " 17  Churn                                  7043 non-null   int64  \n",
      " 18  InternetService_Fiber optic            7043 non-null   bool   \n",
      " 19  InternetService_No                     7043 non-null   bool   \n",
      " 20  PaymentMethod_Credit card (automatic)  7043 non-null   bool   \n",
      " 21  PaymentMethod_Electronic check         7043 non-null   bool   \n",
      " 22  PaymentMethod_Mailed check             7043 non-null   bool   \n",
      "dtypes: bool(5), float64(2), int64(16)\n",
      "memory usage: 1.0 MB\n",
      "None\n",
      "----------------------------------------------------------------------------------------------------\n",
      "            gender  SeniorCitizen      Partner   Dependents       tenure  \\\n",
      "count  7043.000000    7043.000000  7043.000000  7043.000000  7043.000000   \n",
      "mean      0.504756       0.162147     0.483033     0.299588    32.371149   \n",
      "std       0.500013       0.368612     0.499748     0.458110    24.559481   \n",
      "min       0.000000       0.000000     0.000000     0.000000     0.000000   \n",
      "25%       0.000000       0.000000     0.000000     0.000000     9.000000   \n",
      "50%       1.000000       0.000000     0.000000     0.000000    29.000000   \n",
      "75%       1.000000       0.000000     1.000000     1.000000    55.000000   \n",
      "max       1.000000       1.000000     1.000000     1.000000    72.000000   \n",
      "\n",
      "       PhoneService  MultipleLines  OnlineSecurity  OnlineBackup  \\\n",
      "count   7043.000000    7043.000000     7043.000000   7043.000000   \n",
      "mean       0.903166       0.421837        0.286668      0.344881   \n",
      "std        0.295752       0.493888        0.452237      0.475363   \n",
      "min        0.000000       0.000000        0.000000      0.000000   \n",
      "25%        1.000000       0.000000        0.000000      0.000000   \n",
      "50%        1.000000       0.000000        0.000000      0.000000   \n",
      "75%        1.000000       1.000000        1.000000      1.000000   \n",
      "max        1.000000       1.000000        1.000000      1.000000   \n",
      "\n",
      "       DeviceProtection  TechSupport  StreamingTV  StreamingMovies  \\\n",
      "count       7043.000000  7043.000000  7043.000000      7043.000000   \n",
      "mean           0.343888     0.290217     0.384353         0.387903   \n",
      "std            0.475038     0.453895     0.486477         0.487307   \n",
      "min            0.000000     0.000000     0.000000         0.000000   \n",
      "25%            0.000000     0.000000     0.000000         0.000000   \n",
      "50%            0.000000     0.000000     0.000000         0.000000   \n",
      "75%            1.000000     1.000000     1.000000         1.000000   \n",
      "max            1.000000     1.000000     1.000000         1.000000   \n",
      "\n",
      "          Contract  PaperlessBilling  MonthlyCharges  TotalCharges  \\\n",
      "count  7043.000000       7043.000000     7043.000000   7032.000000   \n",
      "mean      0.690473          0.592219       64.761692   2283.300441   \n",
      "std       0.833755          0.491457       30.090047   2266.771362   \n",
      "min       0.000000          0.000000       18.250000     18.800000   \n",
      "25%       0.000000          0.000000       35.500000    401.450000   \n",
      "50%       0.000000          1.000000       70.350000   1397.475000   \n",
      "75%       1.000000          1.000000       89.850000   3794.737500   \n",
      "max       2.000000          1.000000      118.750000   8684.800000   \n",
      "\n",
      "             Churn  \n",
      "count  7043.000000  \n",
      "mean      0.265370  \n",
      "std       0.441561  \n",
      "min       0.000000  \n",
      "25%       0.000000  \n",
      "50%       0.000000  \n",
      "75%       1.000000  \n",
      "max       1.000000  \n",
      "----------------------------------------------------------------------------------------------------\n",
      "gender                                    0\n",
      "SeniorCitizen                             0\n",
      "Partner                                   0\n",
      "Dependents                                0\n",
      "tenure                                    0\n",
      "PhoneService                              0\n",
      "MultipleLines                             0\n",
      "OnlineSecurity                            0\n",
      "OnlineBackup                              0\n",
      "DeviceProtection                          0\n",
      "TechSupport                               0\n",
      "StreamingTV                               0\n",
      "StreamingMovies                           0\n",
      "Contract                                  0\n",
      "PaperlessBilling                          0\n",
      "MonthlyCharges                            0\n",
      "TotalCharges                             11\n",
      "Churn                                     0\n",
      "InternetService_Fiber optic               0\n",
      "InternetService_No                        0\n",
      "PaymentMethod_Credit card (automatic)     0\n",
      "PaymentMethod_Electronic check            0\n",
      "PaymentMethod_Mailed check                0\n",
      "dtype: int64\n",
      "----------------------------------------------------------------------------------------------------\n",
      "gender                                     int64\n",
      "SeniorCitizen                              int64\n",
      "Partner                                    int64\n",
      "Dependents                                 int64\n",
      "tenure                                     int64\n",
      "PhoneService                               int64\n",
      "MultipleLines                              int64\n",
      "OnlineSecurity                             int64\n",
      "OnlineBackup                               int64\n",
      "DeviceProtection                           int64\n",
      "TechSupport                                int64\n",
      "StreamingTV                                int64\n",
      "StreamingMovies                            int64\n",
      "Contract                                   int64\n",
      "PaperlessBilling                           int64\n",
      "MonthlyCharges                           float64\n",
      "TotalCharges                             float64\n",
      "Churn                                      int64\n",
      "InternetService_Fiber optic                 bool\n",
      "InternetService_No                          bool\n",
      "PaymentMethod_Credit card (automatic)       bool\n",
      "PaymentMethod_Electronic check              bool\n",
      "PaymentMethod_Mailed check                  bool\n",
      "dtype: object\n",
      "----------------------------------------------------------------------------------------------------\n"
     ]
    }
   ],
   "source": [
    "# Display the information of the df\n",
    "print(df.info())\n",
    "print(\"-\" * 100)\n",
    "\n",
    "# Display the summary statistics of the df\n",
    "print(df.describe())\n",
    "print(\"-\" * 100)\n",
    "\n",
    "# Display the number of missing values in the df\n",
    "print(df.isnull().sum())\n",
    "print(\"-\" * 100)\n",
    "\n",
    "# Display the data types of the variables in the df\n",
    "print(df.dtypes)\n",
    "print(\"-\" * 100)"
   ]
  },
  {
   "cell_type": "code",
   "execution_count": 3,
   "metadata": {},
   "outputs": [
    {
     "data": {
      "text/plain": [
       "array(['Electronic check', 'Mailed check', 'Bank transfer (automatic)',\n",
       "       'Credit card (automatic)'], dtype=object)"
      ]
     },
     "execution_count": 3,
     "metadata": {},
     "output_type": "execute_result"
    }
   ],
   "source": [
    "df[\"PaymentMethod\"].unique()"
   ]
  },
  {
   "cell_type": "markdown",
   "metadata": {},
   "source": [
    "# Data preprocessing"
   ]
  },
  {
   "cell_type": "code",
   "execution_count": 15,
   "metadata": {},
   "outputs": [],
   "source": [
    "# Convert the gender column to numeric\n",
    "df[\"gender\"] = df[\"gender\"].map({\"Male\" : 1, \"Female\" : 0})"
   ]
  },
  {
   "cell_type": "code",
   "execution_count": 16,
   "metadata": {},
   "outputs": [],
   "source": [
    "# Convert the Partner column to numeric\n",
    "df[\"Partner\"] = df[\"Partner\"].map({\"Yes\" : 1, \"No\" : 0})"
   ]
  },
  {
   "cell_type": "code",
   "execution_count": 17,
   "metadata": {},
   "outputs": [],
   "source": [
    "# Convert the Dependents column to numeric\n",
    "df[\"Dependents\"] = df[\"Dependents\"].map({\"Yes\" : 1, \"No\" : 0})"
   ]
  },
  {
   "cell_type": "code",
   "execution_count": 18,
   "metadata": {},
   "outputs": [],
   "source": [
    "# Convert the PhoneService column to numeric\n",
    "df[\"PhoneService\"] = df[\"PhoneService\"].map({\"Yes\" : 1, \"No\" : 0})"
   ]
  },
  {
   "cell_type": "code",
   "execution_count": 19,
   "metadata": {},
   "outputs": [],
   "source": [
    "# Convert the MultipleLines column to numeric\n",
    "df[\"MultipleLines\"] = df[\"MultipleLines\"].map({\"Yes\" : 1, \"No\" : 0, \"No phone service\" : 0})"
   ]
  },
  {
   "cell_type": "code",
   "execution_count": 21,
   "metadata": {},
   "outputs": [],
   "source": [
    "# Use the get_dummies method to convert the InternetService column to numeric\n",
    "df = pd.get_dummies(df, columns = [\"InternetService\"], drop_first = True)"
   ]
  },
  {
   "cell_type": "code",
   "execution_count": 23,
   "metadata": {},
   "outputs": [],
   "source": [
    "# Convert the OnlineSecurity column to numeric\n",
    "df[\"OnlineSecurity\"] = df[\"OnlineSecurity\"].map({\"Yes\" : 1, \"No\" : 0, \"No internet service\" : 0})\n",
    "\n",
    "# Convert the OnlineBackup column to numeric\n",
    "df[\"OnlineBackup\"] = df[\"OnlineBackup\"].map({\"Yes\" : 1, \"No\" : 0, \"No internet service\" : 0})\n",
    "\n",
    "# Convert the DeviceProtection column to numeric\n",
    "df[\"DeviceProtection\"] = df[\"DeviceProtection\"].map({\"Yes\" : 1, \"No\" : 0, \"No internet service\" : 0})\n",
    "\n",
    "# Convert the TechSupport column to numeric\n",
    "df[\"TechSupport\"] = df[\"TechSupport\"].map({\"Yes\" : 1, \"No\" : 0, \"No internet service\" : 0})\n",
    "\n",
    "# Convert the StreamingTV column to numeric\n",
    "df[\"StreamingTV\"] = df[\"StreamingTV\"].map({\"Yes\" : 1, \"No\" : 0, \"No internet service\" : 0})\n",
    "\n",
    "# Convert the StreamingMovies column to numeric\n",
    "df[\"StreamingMovies\"] = df[\"StreamingMovies\"].map({\"Yes\" : 1, \"No\" : 0, \"No internet service\" : 0})\n",
    "\n"
   ]
  },
  {
   "cell_type": "code",
   "execution_count": 25,
   "metadata": {},
   "outputs": [],
   "source": [
    "# Convert the Contract column to numeric\n",
    "df[\"Contract\"] = df[\"Contract\"].map({\"Month-to-month\" : 0, \"One year\" : 1, \"Two year\" : 2})"
   ]
  },
  {
   "cell_type": "code",
   "execution_count": 26,
   "metadata": {},
   "outputs": [],
   "source": [
    "# Convert the PaperlessBilling column to numeric\n",
    "df[\"PaperlessBilling\"] = df[\"PaperlessBilling\"].map({\"Yes\" : 1, \"No\" : 0})\n",
    "\n",
    "# Use the get_dummies method to convert the PaymentMethod column to numeric\n",
    "df = pd.get_dummies(df, columns = [\"PaymentMethod\"], drop_first = True)\n",
    "\n",
    "# Convert the total charges column to numeric\n",
    "df[\"TotalCharges\"] = pd.to_numeric(df[\"TotalCharges\"], errors = \"coerce\")"
   ]
  },
  {
   "cell_type": "code",
   "execution_count": 27,
   "metadata": {},
   "outputs": [],
   "source": [
    "# Convert the Churn column to numeric\n",
    "df[\"Churn\"] = df[\"Churn\"].map({\"Yes\" : 1, \"No\" : 0})"
   ]
  },
  {
   "cell_type": "code",
   "execution_count": 29,
   "metadata": {},
   "outputs": [],
   "source": [
    "# Drop the customerID column\n",
    "df = df.drop(\"customerID\", axis = 1)"
   ]
  },
  {
   "cell_type": "markdown",
   "metadata": {},
   "source": [
    "## Check for outliers"
   ]
  },
  {
   "cell_type": "code",
   "execution_count": 36,
   "metadata": {},
   "outputs": [
    {
     "data": {
      "image/png": "[encoded data removed]",
      "text/plain": [
       "<Figure size 640x480 with 1 Axes>"
      ]
     },
     "metadata": {},
     "output_type": "display_data"
    }
   ],
   "source": [
    "import matplotlib.pyplot as plt\n",
    "\n",
    "# Create box plots for the numeric columns\n",
    "plt.boxplot(df[\"tenure\"])\n",
    "plt.show()"
   ]
  },
  {
   "cell_type": "code",
   "execution_count": 47,
   "metadata": {},
   "outputs": [
    {
     "data": {
      "image/png": "[encoded data removed]",
      "text/plain": [
       "<Figure size 640x480 with 1 Axes>"
      ]
     },
     "metadata": {},
     "output_type": "display_data"
    },
    {
     "data": {
      "image/png": "[encoded data removed]",
      "text/plain": [
       "<Figure size 640x480 with 1 Axes>"
      ]
     },
     "metadata": {},
     "output_type": "display_data"
    }
   ],
   "source": [
    "plt.boxplot(df[\"MonthlyCharges\"])\n",
    "plt.show()\n",
    "\n",
    "plt.hist(df[\"TotalCharges\"], bins = 5)\n",
    "plt.show()"
   ]
  },
  {
   "cell_type": "code",
   "execution_count": null,
   "metadata": {},
   "outputs": [],
   "source": []
  },
  {
   "cell_type": "code",
   "execution_count": 35,
   "metadata": {},
   "outputs": [
    {
     "name": "stdout",
     "output_type": "stream",
     "text": [
      "<class 'pandas.core.frame.DataFrame'>\n",
      "RangeIndex: 7043 entries, 0 to 7042\n",
      "Data columns (total 23 columns):\n",
      " #   Column                                 Non-Null Count  Dtype  \n",
      "---  ------                                 --------------  -----  \n",
      " 0   gender                                 7043 non-null   int64  \n",
      " 1   SeniorCitizen                          7043 non-null   int64  \n",
      " 2   Partner                                7043 non-null   int64  \n",
      " 3   Dependents                             7043 non-null   int64  \n",
      " 4   tenure                                 7043 non-null   int64  \n",
      " 5   PhoneService                           7043 non-null   int64  \n",
      " 6   MultipleLines                          7043 non-null   int64  \n",
      " 7   OnlineSecurity                         7043 non-null   int64  \n",
      " 8   OnlineBackup                           7043 non-null   int64  \n",
      " 9   DeviceProtection                       7043 non-null   int64  \n",
      " 10  TechSupport                            7043 non-null   int64  \n",
      " 11  StreamingTV                            7043 non-null   int64  \n",
      " 12  StreamingMovies                        7043 non-null   int64  \n",
      " 13  Contract                               7043 non-null   int64  \n",
      " 14  PaperlessBilling                       7043 non-null   int64  \n",
      " 15  MonthlyCharges                         7043 non-null   float64\n",
      " 16  TotalCharges                           7032 non-null   float64\n",
      " 17  Churn                                  7043 non-null   int64  \n",
      " 18  InternetService_Fiber optic            7043 non-null   bool   \n",
      " 19  InternetService_No                     7043 non-null   bool   \n",
      " 20  PaymentMethod_Credit card (automatic)  7043 non-null   bool   \n",
      " 21  PaymentMethod_Electronic check         7043 non-null   bool   \n",
      " 22  PaymentMethod_Mailed check             7043 non-null   bool   \n",
      "dtypes: bool(5), float64(2), int64(16)\n",
      "memory usage: 1.0 MB\n"
     ]
    }
   ],
   "source": [
    "df.info()"
   ]
  },
  {
   "cell_type": "code",
   "execution_count": null,
   "metadata": {},
   "outputs": [],
   "source": []
  },
  {
   "cell_type": "code",
   "execution_count": null,
   "metadata": {},
   "outputs": [],
   "source": []
  }
 ],
 "metadata": {
  "kernelspec": {
   "display_name": "Python 3",
   "language": "python",
   "name": "python3"
  },
  "language_info": {
   "codemirror_mode": {
    "name": "ipython",
    "version": 3
   },
   "file_extension": ".py",
   "mimetype": "text/x-python",
   "name": "python",
   "nbconvert_exporter": "python",
   "pygments_lexer": "ipython3",
   "version": "3.12.2"
  }
 },
 "nbformat": 4,
 "nbformat_minor": 2
}
